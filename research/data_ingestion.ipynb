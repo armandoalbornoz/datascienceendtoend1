{
 "cells": [
  {
   "cell_type": "markdown",
   "id": "72eaef6e",
   "metadata": {},
   "source": [
    "## Data Ingestion"
   ]
  },
  {
   "cell_type": "markdown",
   "id": "5b84f3b7",
   "metadata": {},
   "source": [
    "After our data is loaded to the database, the next step is to ingest the required it. To simplyfy the workflow I will ingest the whole database, but you could also only ingest what was loaded by the load component of the ETL pipeline; this approach would allow you to perform online learning. With the appraoch I will implement, we can train several models with different amounts of data."
   ]
  },
  {
   "cell_type": "code",
   "execution_count": 1,
   "id": "a73b077d",
   "metadata": {},
   "outputs": [],
   "source": [
    "import os\n",
    "os.chdir(\"../\")"
   ]
  },
  {
   "cell_type": "markdown",
   "id": "c2b98db2",
   "metadata": {},
   "source": [
    "### Create the entity configuration class for data ingestion"
   ]
  },
  {
   "cell_type": "code",
   "execution_count": 2,
   "id": "11fef955",
   "metadata": {},
   "outputs": [],
   "source": [
    "from dataclasses import dataclass\n",
    "from pathlib import Path\n",
    "\n",
    "@dataclass\n",
    "class DataIngestionConfig:\n",
    "    \"\"\"\n",
    "    Configuration class for data ingestion parameters.\n",
    "\n",
    "    Args:\n",
    "        root_dir (Path): Directory where Ingestion artifacts will be stored\n",
    "        local_data_file (Path): Path where the data will be stored\n",
    "    \"\"\"\n",
    "    root_dir: Path\n",
    "    local_data_file: Path\n"
   ]
  },
  {
   "cell_type": "markdown",
   "id": "32c60299",
   "metadata": {},
   "source": [
    "### Modify configuration manager so that it handles ingestion configurations"
   ]
  },
  {
   "cell_type": "code",
   "execution_count": 3,
   "id": "f8185391",
   "metadata": {},
   "outputs": [
    {
     "name": "stdout",
     "output_type": "stream",
     "text": [
      "[2025-08-05 16:06:08,039: INFO: __init__: Logger initialized for the datascience package.]\n"
     ]
    }
   ],
   "source": [
    "from src.datascience.constants import * \n",
    "from src.datascience.utils.common import read_yaml, create_directories\n",
    "from src.datascience import logger\n",
    "\n",
    "class ConfigurationManager:\n",
    "    \"\"\"\n",
    "    Configuration manager for handling YAML configuration files.\n",
    "    \n",
    "    This class loads configuration, parameters, and schema files and provides\n",
    "    methods to retrieve specific configuration objects.\n",
    "    \"\"\"\n",
    "    def __init__(self, config_filepath=CONFIG_FILE_PATH, params_filepath= PARAMS_FILE_PATH, schema_filepath = SCHEMA_FILE_PATH ):\n",
    "\n",
    "        \"\"\"\n",
    "        Initialize the ConfigurationManager.\n",
    "        \n",
    "        Args:\n",
    "            config_filepath (Path): Path to the main configuration file\n",
    "            params_filepath (Path): Path to the parameters file\n",
    "            schema_filepath (Path): Path to the schema file\n",
    "        \"\"\"\n",
    "          \n",
    "        try:\n",
    "            self.config = read_yaml(config_filepath)\n",
    "            self.params = read_yaml(params_filepath)\n",
    "            self.schema = read_yaml(schema_filepath)\n",
    "            \n",
    "            # Create artifacts root directory\n",
    "            create_directories([self.config.artifacts_root])\n",
    "            logger.info(\"ConfigurationManager initialized successfully\")\n",
    "            \n",
    "        except Exception as e:\n",
    "            logger.error(f\"Error initializing ConfigurationManager: {e}\")\n",
    "            raise\n",
    "\n",
    "\n",
    "    def get_data_ingestion_config(self) -> DataIngestionConfig:\n",
    "        config = self.config.data_ingestion\n",
    "        create_directories([config.root_dir])\n",
    "\n",
    "        data_ingestion_config = DataIngestionConfig(\n",
    "            root_dir = config.root_dir,\n",
    "            local_data_file = config.local_data_file,\n",
    "        )\n",
    "\n",
    "        return data_ingestion_config"
   ]
  },
  {
   "cell_type": "markdown",
   "id": "6935dc9f",
   "metadata": {},
   "source": [
    "### Create the data ingestion Component"
   ]
  },
  {
   "cell_type": "code",
   "execution_count": 4,
   "id": "e03b79c3",
   "metadata": {},
   "outputs": [],
   "source": [
    "## Component-Data Ingestion\n",
    "import urllib.request as request\n",
    "import pandas as pd\n",
    "import psycopg2\n",
    "import os\n",
    "from dotenv import load_dotenv\n",
    "from src.datascience import logger\n",
    "\n",
    "class DataIngestion:\n",
    "    \"\"\"\n",
    "    Component for data ingestion operations including querying data from the database and\n",
    "    saving it as a csv file.\n",
    "    \"\"\"\n",
    "    def __init__(self, config:DataIngestionConfig):\n",
    "\n",
    "        \"\"\"\n",
    "        Initialize DataIngestion with configuration.\n",
    "        \n",
    "        Args:\n",
    "            config (DataIngestionConfig): Configuration object containing data ingestion parameters\n",
    "        \"\"\"\n",
    "             \n",
    "        self.config = config\n",
    "    \n",
    "    def ingest_data(self):\n",
    "        \"\"\"\n",
    "        Gets the data from a RDS instance and saves it to a csv file\n",
    "        \"\"\"\n",
    "        load_dotenv()\n",
    "\n",
    "        try:\n",
    "            conn = psycopg2.connect(\n",
    "                host=os.getenv(\"POSTGRES_HOST\"),\n",
    "                database=os.getenv(\"POSTGRES_DB\"),\n",
    "                user=os.getenv(\"POSTGRES_USER\"),\n",
    "                password=os.getenv(\"POSTGRES_PASSWORD\")\n",
    "            )   \n",
    "        \n",
    "            df = pd.read_sql(\"SELECT * FROM weather_data\", conn) # Get data from databases\n",
    "            df.to_csv(self.config.local_data_file, index=False) # Save data to csv\n",
    "\n",
    "                \n",
    "        except Exception as e:\n",
    "            logger.error(f\"Error  ingesting data: {e}\")\n",
    "            raise"
   ]
  },
  {
   "cell_type": "code",
   "execution_count": 5,
   "id": "801ce27a",
   "metadata": {},
   "outputs": [
    {
     "name": "stdout",
     "output_type": "stream",
     "text": [
      "[2025-08-05 16:06:09,425: INFO: common: YAML file: config/config.yaml loaded successfully]\n",
      "[2025-08-05 16:06:09,426: INFO: common: YAML file: params.yaml loaded successfully]\n",
      "[2025-08-05 16:06:09,427: INFO: common: YAML file: schema.yaml loaded successfully]\n",
      "[2025-08-05 16:06:09,428: INFO: common: Created directory at artifacts]\n",
      "[2025-08-05 16:06:09,429: INFO: 3601399614: ConfigurationManager initialized successfully]\n",
      "[2025-08-05 16:06:09,429: INFO: common: Created directory at artifacts/data_ingestion]\n"
     ]
    },
    {
     "name": "stderr",
     "output_type": "stream",
     "text": [
      "/tmp/ipykernel_47465/3190520545.py:39: UserWarning: pandas only supports SQLAlchemy connectable (engine/connection) or database string URI or sqlite3 DBAPI2 connection. Other DBAPI2 objects are not tested. Please consider using SQLAlchemy.\n",
      "  df = pd.read_sql(\"SELECT * FROM weather_data\", conn) # Get data from databases\n"
     ]
    }
   ],
   "source": [
    "try:\n",
    "    config= ConfigurationManager()\n",
    "    data_ingestion_config = config.get_data_ingestion_config()\n",
    "    data_ingestion = DataIngestion(config=data_ingestion_config)\n",
    "    data_ingestion.ingest_data()\n",
    "except Exception as e:\n",
    "    raise e"
   ]
  },
  {
   "cell_type": "code",
   "execution_count": null,
   "id": "0acac59f",
   "metadata": {},
   "outputs": [],
   "source": []
  }
 ],
 "metadata": {
  "kernelspec": {
   "display_name": "env",
   "language": "python",
   "name": "python3"
  },
  "language_info": {
   "codemirror_mode": {
    "name": "ipython",
    "version": 3
   },
   "file_extension": ".py",
   "mimetype": "text/x-python",
   "name": "python",
   "nbconvert_exporter": "python",
   "pygments_lexer": "ipython3",
   "version": "3.11.13"
  }
 },
 "nbformat": 4,
 "nbformat_minor": 5
}
