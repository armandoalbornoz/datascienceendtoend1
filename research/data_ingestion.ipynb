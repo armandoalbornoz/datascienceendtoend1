{
 "cells": [
  {
   "cell_type": "code",
   "execution_count": 1,
   "id": "a73b077d",
   "metadata": {},
   "outputs": [],
   "source": [
    "import os\n"
   ]
  },
  {
   "cell_type": "code",
   "execution_count": 2,
   "id": "98972e80",
   "metadata": {},
   "outputs": [
    {
     "data": {
      "text/plain": [
       "'/home/armando-albornoz/Desktop/ml/MLOPS_course/project1/datascienceendtoend1/research'"
      ]
     },
     "execution_count": 2,
     "metadata": {},
     "output_type": "execute_result"
    }
   ],
   "source": [
    "%pwd"
   ]
  },
  {
   "cell_type": "code",
   "execution_count": 3,
   "id": "8b505c87",
   "metadata": {},
   "outputs": [
    {
     "data": {
      "text/plain": [
       "'/home/armando-albornoz/Desktop/ml/MLOPS_course/project1/datascienceendtoend1'"
      ]
     },
     "execution_count": 3,
     "metadata": {},
     "output_type": "execute_result"
    }
   ],
   "source": [
    "os.chdir(\"../\")\n",
    "%pwd"
   ]
  },
  {
   "cell_type": "code",
   "execution_count": 4,
   "id": "11fef955",
   "metadata": {},
   "outputs": [],
   "source": [
    "from dataclasses import dataclass\n",
    "from pathlib import Path\n",
    "\n",
    "@dataclass\n",
    "class DataIngestionConfig:\n",
    "    \"\"\"Configuration class for data ingestion parameters.\"\"\"\n",
    "    root_dir: Path\n",
    "    source_URL: str\n",
    "    local_data_file: Path\n",
    "    unzip_dir: Path"
   ]
  },
  {
   "cell_type": "code",
   "execution_count": 5,
   "id": "8b573608",
   "metadata": {},
   "outputs": [
    {
     "name": "stdout",
     "output_type": "stream",
     "text": [
      "[2025-08-01 21:47:06,591: INFO: __init__: Logger initialized for the datascience package.]\n"
     ]
    }
   ],
   "source": [
    "from src.datascience.constants import * \n",
    "from src.datascience.utils.common import read_yaml, create_directories\n",
    "from src.datascience import logger\n"
   ]
  },
  {
   "cell_type": "code",
   "execution_count": 6,
   "id": "f8185391",
   "metadata": {},
   "outputs": [],
   "source": [
    "class ConfigurationManager:\n",
    "    \"\"\"\n",
    "    Configuration manager for handling YAML configuration files.\n",
    "    \n",
    "    This class loads configuration, parameters, and schema files and provides\n",
    "    methods to retrieve specific configuration objects.\n",
    "    \"\"\"\n",
    "    def __init__(self, config_filepath=CONFIG_FILE_PATH, params_filepath= PARAMS_FILE_PATH, schema_filepath = SCHEMA_FILE_PATH ):\n",
    "\n",
    "        \"\"\"\n",
    "        Initialize the ConfigurationManager.\n",
    "        \n",
    "        Args:\n",
    "            config_filepath (Path): Path to the main configuration file\n",
    "            params_filepath (Path): Path to the parameters file\n",
    "            schema_filepath (Path): Path to the schema file\n",
    "        \"\"\"\n",
    "          \n",
    "        try:\n",
    "            self.config = read_yaml(config_filepath)\n",
    "            self.params = read_yaml(params_filepath)\n",
    "            self.schema = read_yaml(schema_filepath)\n",
    "            \n",
    "            # Create artifacts root directory\n",
    "            create_directories([self.config.artifacts_root])\n",
    "            logger.info(\"ConfigurationManager initialized successfully\")\n",
    "            \n",
    "        except Exception as e:\n",
    "            logger.error(f\"Error initializing ConfigurationManager: {e}\")\n",
    "            raise\n",
    "\n",
    "\n",
    "    def get_data_ingestion_config(self) -> DataIngestionConfig:\n",
    "        config = self.config.data_ingestion\n",
    "        create_directories([config.root_dir])\n",
    "\n",
    "        data_ingestion_config = DataIngestionConfig(\n",
    "            root_dir = config.root_dir,\n",
    "            source_URL = config.source_URL,\n",
    "            local_data_file = config.local_data_file,\n",
    "            unzip_dir = config.unzip_dir\n",
    "        )\n",
    "\n",
    "        return data_ingestion_config"
   ]
  },
  {
   "cell_type": "code",
   "execution_count": 7,
   "id": "e03b79c3",
   "metadata": {},
   "outputs": [],
   "source": [
    "## Component-Data Ingestion\n",
    "import urllib.request as request\n",
    "import zipfile\n",
    "\n",
    "class DataIngestion:\n",
    "    \"\"\"\n",
    "    Component for data ingestion operations including downloading and extracting files.\n",
    "    \"\"\"\n",
    "    def __init__(self, config:DataIngestionConfig):\n",
    "\n",
    "        \"\"\"\n",
    "        Initialize DataIngestion with configuration.\n",
    "        \n",
    "        Args:\n",
    "            config (DataIngestionConfig): Configuration object containing data ingestion parameters\n",
    "        \"\"\"\n",
    "             \n",
    "        self.config = config\n",
    "    \n",
    "    def download_file(self) -> None:\n",
    "        \"\"\"\n",
    "        Download file from source URL if it doesn't already exist locally.\n",
    "        \n",
    "        Raises:\n",
    "            Exception: If there's an error downloading the file\n",
    "        \"\"\"\n",
    "        try:\n",
    "            if not os.path.exists(self.config.local_data_file):\n",
    "                # Ensure parent directory exists before downloading\n",
    "                os.makedirs(os.path.dirname(self.config.local_data_file), exist_ok=True)\n",
    "                \n",
    "                filename, headers = request.urlretrieve(\n",
    "                    url=self.config.source_URL,\n",
    "                    filename=self.config.local_data_file\n",
    "                )\n",
    "                logger.info(f\"{filename} download completed!\")\n",
    "            else:\n",
    "                logger.info(f\"File {self.config.local_data_file} already exists!\")\n",
    "                \n",
    "        except Exception as e:\n",
    "            logger.error(f\"Error downloading file from {self.config.source_URL}: {e}\")\n",
    "            raise\n",
    "\n",
    "\n",
    "    def extract_zip_file(self):\n",
    "\n",
    "        \"\"\"\n",
    "        Exctract ZIP file to the specified directory.\n",
    "\n",
    "        Raises:\n",
    "            FileNotFoundError: If the ZIP file doesn't exist\n",
    "            zipfile.BadZipFile: If the file is not a valid ZIP file\n",
    "            Exception: If there's an error extracting the file\n",
    "        \"\"\"\n",
    "\n",
    "        try:\n",
    "            if not os.path.exists(self.config.local_data_file):\n",
    "                raise FileNotFoundError(f\"ZIP file not found {self.config.local_data_file}\")\n",
    "            \n",
    "            unzip_path = self.config.unzip_dir\n",
    "            os.makedirs(unzip_path, exist_ok=True)\n",
    "\n",
    "\n",
    "            with zipfile.ZipFile(self.config.local_data_file, 'r') as zip_ref:\n",
    "                zip_ref.extractall(unzip_path)\n",
    "\n",
    "            logger.info(f\"ZIP file extracted successfully to {unzip_path}\")\n",
    "\n",
    "        except zipfile.BadZipFile as e:\n",
    "            logger.error(f\"Invalid ZIP file {self.config.local_data_file}: {e}\")\n",
    "            raise\n",
    "        except FileNotFoundError as e:\n",
    "            logger.error(f\"File not found: {e}\")\n",
    "            raise\n",
    "        except Exception as e:\n",
    "            logger.error(f\"Error extracting ZIP file: {e}\")\n",
    "            raise\n",
    "\n",
    "\n",
    "    def perform_data_ingestion(self) -> None:\n",
    "        \"\"\"\n",
    "        Complete data ingestion process: download and extract.\n",
    "        \n",
    "        This method orchestrates the full data ingestion pipeline.\n",
    "        \"\"\"\n",
    "\n",
    "        try:\n",
    "            logger.info(\"Starting data ingestion process\")\n",
    "            self.download_file()\n",
    "            self.extract_zip_file()\n",
    "            logger.info(\"Data ingestion process completed successfully\") \n",
    "        except Exception as e:\n",
    "            logger.error(f\"Data ingestion process failed: {e}\")\n",
    "            raise          \n",
    "\n",
    "\n"
   ]
  },
  {
   "cell_type": "code",
   "execution_count": 8,
   "id": "801ce27a",
   "metadata": {},
   "outputs": [
    {
     "name": "stdout",
     "output_type": "stream",
     "text": [
      "[2025-08-01 21:47:06,906: INFO: common: YAML file: config/config.yaml loaded successfully]\n",
      "[2025-08-01 21:47:06,908: INFO: common: YAML file: params.yaml loaded successfully]\n",
      "[2025-08-01 21:47:06,909: INFO: common: YAML file: schema.yaml loaded successfully]\n",
      "[2025-08-01 21:47:06,910: INFO: common: Created directory at artifacts]\n",
      "[2025-08-01 21:47:06,911: INFO: 3137079986: ConfigurationManager initialized successfully]\n",
      "[2025-08-01 21:47:06,911: INFO: common: Created directory at artifacts/data_ingestion]\n",
      "[2025-08-01 21:47:06,912: INFO: 2635355839: Starting data ingestion process]\n",
      "[2025-08-01 21:47:07,786: INFO: 2635355839: artifacts/data_ingestion/data.zip download completed!]\n",
      "[2025-08-01 21:47:07,793: INFO: 2635355839: ZIP file extracted successfully to artifacts/data_ingestion]\n",
      "[2025-08-01 21:47:07,794: INFO: 2635355839: Data ingestion process completed successfully]\n"
     ]
    }
   ],
   "source": [
    "try:\n",
    "    config= ConfigurationManager()\n",
    "    data_ingestion_config = config.get_data_ingestion_config()\n",
    "    data_ingestion = DataIngestion(config=data_ingestion_config)\n",
    "    data_ingestion.perform_data_ingestion()\n",
    "except Exception as e:\n",
    "    raise e"
   ]
  },
  {
   "cell_type": "code",
   "execution_count": null,
   "id": "43346b23",
   "metadata": {},
   "outputs": [],
   "source": []
  }
 ],
 "metadata": {
  "kernelspec": {
   "display_name": "env",
   "language": "python",
   "name": "python3"
  },
  "language_info": {
   "codemirror_mode": {
    "name": "ipython",
    "version": 3
   },
   "file_extension": ".py",
   "mimetype": "text/x-python",
   "name": "python",
   "nbconvert_exporter": "python",
   "pygments_lexer": "ipython3",
   "version": "3.11.13"
  }
 },
 "nbformat": 4,
 "nbformat_minor": 5
}
