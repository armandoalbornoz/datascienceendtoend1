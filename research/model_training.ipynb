{
 "cells": [
  {
   "cell_type": "markdown",
   "id": "f5c1d59a",
   "metadata": {},
   "source": [
    "## Model Training"
   ]
  },
  {
   "cell_type": "markdown",
   "id": "68d99329",
   "metadata": {},
   "source": [
    "Let's train several models and tune their hyperparameters"
   ]
  },
  {
   "cell_type": "code",
   "execution_count": 1,
   "id": "fc05d264",
   "metadata": {},
   "outputs": [],
   "source": [
    "import os\n",
    "os.chdir(\"../\")"
   ]
  },
  {
   "cell_type": "code",
   "execution_count": null,
   "id": "6ec41de3",
   "metadata": {},
   "outputs": [],
   "source": [
    "from dataclasses import dataclass\n",
    "from pathlib import Path\n",
    "from typing import List\n",
    "\n",
    "@dataclass\n",
    "class ModelTrainerConfig:\n",
    "    \"\"\"\n",
    "    \n",
    "    Configuration class for model training operations.\n",
    "\n",
    "    This class contains all the parameters and paths needed for training\n",
    "    machine learning models.\n",
    "\n",
    "    \"\"\"\n",
    "    root_dir: Path\n",
    "    train_data_path: Path\n",
    "    test_data_path: Path\n",
    "    model_name: str\n",
    "    target_column: str\n",
    "    cross_validation: int\n",
    "    scoring: str\n",
    "    available_models: List[str]\n",
    "    target_column: str\n"
   ]
  },
  {
   "cell_type": "code",
   "execution_count": null,
   "id": "011073c7",
   "metadata": {},
   "outputs": [
    {
     "name": "stdout",
     "output_type": "stream",
     "text": [
      "[2025-08-02 19:31:49,796: INFO: __init__: Logger initialized for the datascience package.]\n"
     ]
    }
   ],
   "source": [
    "from src.datascience.constants import * \n",
    "from src.datascience.utils.common import read_yaml, create_directories\n",
    "from src.datascience import logger\n",
    "from src.datascience.config.configuration import DataIngestionConfig\n",
    "\n",
    "class ConfigurationManager:\n",
    "    \"\"\"\n",
    "    Configuration manager for handling YAML configuration files.\n",
    "    \n",
    "    This class loads configuration, parameters, and schema files and provides\n",
    "    methods to retrieve specific configuration objects.\n",
    "    \"\"\"\n",
    "    def __init__(self, config_filepath=CONFIG_FILE_PATH, params_filepath= PARAMS_FILE_PATH, schema_filepath = SCHEMA_FILE_PATH ):\n",
    "\n",
    "        \"\"\"\n",
    "        Initialize the ConfigurationManager.\n",
    "        \n",
    "        Args:\n",
    "            config_filepath (Path): Path to the main configuration file\n",
    "            params_filepath (Path): Path to the parameters file\n",
    "            schema_filepath (Path): Path to the schema file\n",
    "        \"\"\"\n",
    "          \n",
    "        try:\n",
    "            self.config = read_yaml(config_filepath)\n",
    "            self.params = read_yaml(params_filepath)\n",
    "            self.schema = read_yaml(schema_filepath)\n",
    "            \n",
    "            # Create artifacts root directory\n",
    "            create_directories([self.config.artifacts_root])\n",
    "            logger.info(\"ConfigurationManager initialized successfully\")\n",
    "            \n",
    "        except Exception as e:\n",
    "            logger.error(f\"Error initializing ConfigurationManager: {e}\")\n",
    "            raise\n",
    "    \n",
    "    def get_model_trainer_config(self) -> ModelTrainerConfig:\n",
    "        config = self.config.model_trainer\n",
    "        params = self.params.models\n",
    "\n",
    "        create_directories([config.root_dir])\n",
    "\n",
    "        model_trainer_config = ModelTrainerConfig(\n",
    "            root_dir = config.root_dir,\n",
    "            train_data_path = config.train_data_path,\n",
    "            test_data_path = config.test_data_path,\n",
    "            model_name = config.model_name,\n",
    "            target_column = config.target_column,\n",
    "            cross_validation = int(config.cross_validation),\n",
    "            scoring= config.scoring,\n",
    "            available_models = config.available_models,\n",
    "            target_column = config.target_column,   \n",
    "\n",
    "            models = params\n",
    "        )\n",
    "        return model_trainer_config"
   ]
  },
  {
   "cell_type": "code",
   "execution_count": null,
   "id": "ab60628a",
   "metadata": {},
   "outputs": [],
   "source": [
    "import pandas as pd\n",
    "import os\n",
    "from sklearn.linear_model import LogisticRegression\n",
    "from sklearn.ensemble import RandomForestClassifier\n",
    "from sklearn.svm import SVC\n",
    "from src.datascience import logger\n",
    "from sklearn.linear_model import ElasticNet\n",
    "import joblib\n",
    "from typing import List\n",
    "\n",
    "class ModelTrainer:\n",
    "    \"\"\"\n",
    "    Component for training machine learning models.\n",
    "    \"\"\"\n",
    "    def __init__(self, config: ModelTrainerConfig):\n",
    "        self.config = config\n",
    "        self.estimators = {}\n",
    "\n",
    "\n",
    "    def _make_estimators(self):\n",
    "        for name in self.config.available_models:\n",
    "            if name == \"logistic_regression\":\n",
    "                self.estimators[name] = LogisticRegression(max_iter=2000)\n",
    "            elif name == \"random_forest\":\n",
    "                self.estimators[name] = RandomForestClassifier(random_state=42, n_jobs=-1)\n",
    "            elif name == \"svm\":\n",
    "                # probability=True so we can use predict_proba for ROC AUC\n",
    "                self.estimators[name] = SVC(probability=True)\n",
    "        \n",
    "\n",
    "    def train(self):\n",
    "        \"\"\"\n",
    "        Trains several models and saves them.\n",
    "        \n",
    "        Raises:\n",
    "            FileNotFoundError: If training or testing data files don't exist\n",
    "            Exception: If there's an error during training\n",
    "        \"\"\"\n",
    "        try:\n",
    "\n",
    "            train_data = pd.read_csv(self.config.train_data_path)\n",
    "            test_data = pd.read_csv(self.config.test_data_path)\n",
    "\n",
    "            train_x = train_data.drop([self.config.target_column], axis=1)\n",
    "            test_x  = test_data.drop([self.config.target_column], axis=1)\n",
    "            train_y = train_data[self.config.target_column]\n",
    "            test_y = test_data[self.config.target_column]\n",
    "\n",
    "            \n",
    "\n",
    "            # lr = ElasticNet(alpha=self.config.alpha, l1_ratio=self.config.l1_ratio, random_state=42)\n",
    "            # lr.fit(train_x, train_y)\n",
    "            # logger.info(\"Model training completed\")\n",
    "\n",
    "            # joblib.dump(lr, os.path.join(self.config.root_dir, self.config.model_name))\n",
    "        except FileNotFoundError as e:\n",
    "            logger.error(f\"Data file not found: {e}\")\n",
    "            raise\n",
    "        except Exception as e:\n",
    "            logger.error(f\"Error during model training: {e}\")\n",
    "            raise\n",
    "        "
   ]
  },
  {
   "cell_type": "code",
   "execution_count": 5,
   "id": "95c2293a",
   "metadata": {},
   "outputs": [
    {
     "name": "stdout",
     "output_type": "stream",
     "text": [
      "[2025-08-02 19:31:56,230: INFO: common: YAML file: config/config.yaml loaded successfully]\n",
      "[2025-08-02 19:31:56,231: INFO: common: YAML file: params.yaml loaded successfully]\n",
      "[2025-08-02 19:31:56,233: INFO: common: YAML file: schema.yaml loaded successfully]\n",
      "[2025-08-02 19:31:56,234: INFO: common: Created directory at artifacts]\n",
      "[2025-08-02 19:31:56,234: INFO: 886728863: ConfigurationManager initialized successfully]\n",
      "[2025-08-02 19:31:56,235: INFO: common: Created directory at artifacts/model_trainer]\n",
      "[2025-08-02 19:31:56,764: INFO: 97880468: Model training completed]\n"
     ]
    }
   ],
   "source": [
    "try:\n",
    "    config = ConfigurationManager()\n",
    "    model_trainer_config = config.get_model_trainer_config()\n",
    "    model_trainer = ModelTrainer(config=model_trainer_config)\n",
    "    model_trainer.train()\n",
    "except Exception as e:\n",
    "    raise e "
   ]
  },
  {
   "cell_type": "code",
   "execution_count": null,
   "id": "8bf59a58",
   "metadata": {},
   "outputs": [],
   "source": []
  }
 ],
 "metadata": {
  "kernelspec": {
   "display_name": "env",
   "language": "python",
   "name": "python3"
  },
  "language_info": {
   "codemirror_mode": {
    "name": "ipython",
    "version": 3
   },
   "file_extension": ".py",
   "mimetype": "text/x-python",
   "name": "python",
   "nbconvert_exporter": "python",
   "pygments_lexer": "ipython3",
   "version": "3.11.13"
  }
 },
 "nbformat": 4,
 "nbformat_minor": 5
}
