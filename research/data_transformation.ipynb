{
 "cells": [
  {
   "cell_type": "code",
   "execution_count": 1,
   "id": "515c93a1",
   "metadata": {},
   "outputs": [
    {
     "data": {
      "text/plain": [
       "'/home/armando-albornoz/Desktop/ml/MLOPS_course/project1/datascienceendtoend1/research'"
      ]
     },
     "execution_count": 1,
     "metadata": {},
     "output_type": "execute_result"
    }
   ],
   "source": [
    "import os\n",
    "%pwd"
   ]
  },
  {
   "cell_type": "code",
   "execution_count": 2,
   "id": "95d490be",
   "metadata": {},
   "outputs": [
    {
     "data": {
      "text/plain": [
       "'/home/armando-albornoz/Desktop/ml/MLOPS_course/project1/datascienceendtoend1'"
      ]
     },
     "execution_count": 2,
     "metadata": {},
     "output_type": "execute_result"
    }
   ],
   "source": [
    "os.chdir(\"../\")\n",
    "%pwd"
   ]
  },
  {
   "cell_type": "code",
   "execution_count": null,
   "id": "81929e77",
   "metadata": {},
   "outputs": [],
   "source": [
    "from dataclasses import dataclass\n",
    "from pathlib import Path\n",
    "\n",
    "@dataclass\n",
    "class DataTransformationConfig:\n",
    "    \"\"\"\n",
    "    Configuration class for data transformation operations.\n",
    "    \n",
    "    Attributes:\n",
    "        root_dir: Directory where transformation artifacts will be stored\n",
    "        data_path: Path to the validated data file\n",
    "        test_size: Proportion of data to use for testing (default: 0.2)\n",
    "        random_state: Random seed for reproducibility (default: 42)\n",
    "    \"\"\"\n",
    "    root_dir: Path\n",
    "    data_path: Path\n",
    "    test_size: float \n",
    "    random_state: int \n"
   ]
  },
  {
   "cell_type": "code",
   "execution_count": 4,
   "id": "e559af9c",
   "metadata": {},
   "outputs": [
    {
     "name": "stdout",
     "output_type": "stream",
     "text": [
      "[2025-08-02 15:47:06,288: INFO: __init__: Logger initialized for the datascience package.]\n"
     ]
    }
   ],
   "source": [
    "from src.datascience.constants import * \n",
    "from src.datascience.utils.common import read_yaml, create_directories\n",
    "from src.datascience import logger\n",
    "from src.datascience.config.configuration import DataIngestionConfig\n",
    "\n",
    "class ConfigurationManager:\n",
    "    \"\"\"\n",
    "    Configuration manager for handling YAML configuration files.\n",
    "    \n",
    "    This class loads configuration, parameters, and schema files and provides\n",
    "    methods to retrieve specific configuration objects.\n",
    "    \"\"\"\n",
    "    def __init__(self, config_filepath=CONFIG_FILE_PATH, params_filepath= PARAMS_FILE_PATH, schema_filepath = SCHEMA_FILE_PATH ):\n",
    "\n",
    "        \"\"\"\n",
    "        Initialize the ConfigurationManager.\n",
    "        \n",
    "        Args:\n",
    "            config_filepath (Path): Path to the main configuration file\n",
    "            params_filepath (Path): Path to the parameters file\n",
    "            schema_filepath (Path): Path to the schema file\n",
    "        \"\"\"\n",
    "          \n",
    "        try:\n",
    "            self.config = read_yaml(config_filepath)\n",
    "            self.params = read_yaml(params_filepath)\n",
    "            self.schema = read_yaml(schema_filepath)\n",
    "            \n",
    "            # Create artifacts root directory\n",
    "            create_directories([self.config.artifacts_root])\n",
    "            logger.info(\"ConfigurationManager initialized successfully\")\n",
    "            \n",
    "        except Exception as e:\n",
    "            logger.error(f\"Error initializing ConfigurationManager: {e}\")\n",
    "            raise\n",
    "\n",
    "\n",
    "    def get_data_ingestion_config(self) -> DataIngestionConfig:\n",
    "        config = self.config.data_ingestion\n",
    "        create_directories([config.root_dir])\n",
    "\n",
    "        data_ingestion_config = DataIngestionConfig(\n",
    "            root_dir = config.root_dir,\n",
    "            source_URL = config.source_URL,\n",
    "            local_data_file = config.local_data_file,\n",
    "            unzip_dir = config.unzip_dir\n",
    "        )\n",
    "        return data_ingestion_config\n",
    "    \n",
    "    def get_data_transformation_config(self) -> DataTransformationConfig:\n",
    "        config = self.config.data_transformation\n",
    "        create_directories([config.root_dir])\n",
    "\n",
    "        data_transformation_config = DataTransformationConfig(\n",
    "            root_dir= config.root_dir,\n",
    "            data_path=config.data_path,\n",
    "            test_size=config.test_size,\n",
    "            random_state=config.random_state\n",
    "        )\n",
    "        return data_transformation_config"
   ]
  },
  {
   "cell_type": "code",
   "execution_count": 5,
   "id": "52e42828",
   "metadata": {},
   "outputs": [],
   "source": [
    "import os\n",
    "from src.datascience import logger\n",
    "from sklearn.model_selection import train_test_split\n",
    "import pandas as pd\n",
    "\n",
    "class DataTransformation:\n",
    "    \"\"\"\n",
    "    Component for data transformation operations including train-test split.\n",
    "    \"\"\"\n",
    " \n",
    "    def __init__(self, config: DataTransformationConfig):\n",
    "        self.config = config\n",
    "\n",
    "    def train_test_split_(self):\n",
    "        \"\"\"\n",
    "        Split the data into training and testing sets.\n",
    "\n",
    "        Raises:\n",
    "            FileNotFoundError: If the data file doesn't exists\n",
    "            Exception: If there is an error during splitting\n",
    "        \"\"\"\n",
    "\n",
    "        try:\n",
    "            # Load data    \n",
    "            logger.info(f\"Loading data from: {self.config.data_path}\")\n",
    "            data = pd.read_csv(self.config.data_path)\n",
    "            logger.info(f\"Data loaded successfully. Original shape: {data.shape}\")\n",
    "            \n",
    "\n",
    "            # Split the data into train and test\n",
    "            logger.info(f\"Splitting the data\")\n",
    "            train, test = train_test_split(data, test_size= self.config.test_size, random_state=self.config.random_state)\n",
    "            logger.info(\"Splitted data into training and test sets\")\n",
    "\n",
    "\n",
    "            train.to_csv(os.path.join(self.config.root_dir, \"train.csv\"), index = False)\n",
    "            test.to_csv(os.path.join(self.config.root_dir, \"test.csv\"), index = False)\n",
    "\n",
    "            print(f\"Files saved to: {self.config.root_dir}\")\n",
    "            logger.info(train.shape)\n",
    "            logger.info(test.shape)\n",
    "\n",
    "            print(train.shape)\n",
    "            print(test.shape)\n",
    "\n",
    "        except FileNotFoundError as e:\n",
    "            logger.error(f\"Data file not found: {e}\")\n",
    "            raise\n",
    "        except Exception as e:\n",
    "            logger.error(f\"Error during train-test split: {e}\")\n",
    "            raise"
   ]
  },
  {
   "cell_type": "code",
   "execution_count": 6,
   "id": "b043e836",
   "metadata": {},
   "outputs": [
    {
     "name": "stdout",
     "output_type": "stream",
     "text": [
      "[2025-08-02 16:22:03,587: INFO: common: YAML file: config/config.yaml loaded successfully]\n",
      "[2025-08-02 16:22:03,588: INFO: common: YAML file: params.yaml loaded successfully]\n",
      "[2025-08-02 16:22:03,589: INFO: common: YAML file: schema.yaml loaded successfully]\n",
      "[2025-08-02 16:22:03,590: INFO: common: Created directory at artifacts]\n",
      "[2025-08-02 16:22:03,590: INFO: 276801081: ConfigurationManager initialized successfully]\n",
      "[2025-08-02 16:22:03,591: INFO: common: Created directory at artifacts/data_transformation]\n",
      "[2025-08-02 16:22:03,591: INFO: 2586220882: Loading data from: artifacts/data_ingestion/Employers_data.csv]\n",
      "[2025-08-02 16:22:03,608: INFO: 2586220882: Data loaded successfully. Original shape: (10000, 10)]\n",
      "[2025-08-02 16:22:03,610: INFO: 2586220882: Splitting the data]\n",
      "[2025-08-02 16:22:03,616: INFO: 2586220882: Splitted data into training and test sets]\n",
      "Files saved to: artifacts/data_transformation\n",
      "[2025-08-02 16:22:03,750: INFO: 2586220882: (8000, 10)]\n",
      "[2025-08-02 16:22:03,751: INFO: 2586220882: (2000, 10)]\n",
      "(8000, 10)\n",
      "(2000, 10)\n"
     ]
    }
   ],
   "source": [
    "try: \n",
    "    config = ConfigurationManager()\n",
    "    data_transformation_config = config.get_data_transformation_config()\n",
    "    data_transformation = DataTransformation(config=data_transformation_config)\n",
    "    data_transformation.train_test_split_()\n",
    "except Exception as e: \n",
    "    raise e  "
   ]
  },
  {
   "cell_type": "code",
   "execution_count": null,
   "id": "024e3369",
   "metadata": {},
   "outputs": [],
   "source": []
  }
 ],
 "metadata": {
  "kernelspec": {
   "display_name": "env",
   "language": "python",
   "name": "python3"
  },
  "language_info": {
   "codemirror_mode": {
    "name": "ipython",
    "version": 3
   },
   "file_extension": ".py",
   "mimetype": "text/x-python",
   "name": "python",
   "nbconvert_exporter": "python",
   "pygments_lexer": "ipython3",
   "version": "3.11.13"
  }
 },
 "nbformat": 4,
 "nbformat_minor": 5
}
