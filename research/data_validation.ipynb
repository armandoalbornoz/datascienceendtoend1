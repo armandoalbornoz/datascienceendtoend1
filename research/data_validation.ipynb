{
 "cells": [
  {
   "cell_type": "code",
   "execution_count": 1,
   "id": "4a9dd75c",
   "metadata": {},
   "outputs": [],
   "source": [
    "import os"
   ]
  },
  {
   "cell_type": "code",
   "execution_count": 2,
   "id": "4d77069a",
   "metadata": {},
   "outputs": [
    {
     "data": {
      "text/plain": [
       "'/home/armando-albornoz/Desktop/ml/MLOPS_course/project1/datascienceendtoend1/research'"
      ]
     },
     "execution_count": 2,
     "metadata": {},
     "output_type": "execute_result"
    }
   ],
   "source": [
    "%pwd"
   ]
  },
  {
   "cell_type": "code",
   "execution_count": 3,
   "id": "430422e7",
   "metadata": {},
   "outputs": [
    {
     "data": {
      "text/plain": [
       "'/home/armando-albornoz/Desktop/ml/MLOPS_course/project1/datascienceendtoend1'"
      ]
     },
     "execution_count": 3,
     "metadata": {},
     "output_type": "execute_result"
    }
   ],
   "source": [
    "os.chdir(\"../\")\n",
    "%pwd"
   ]
  },
  {
   "cell_type": "code",
   "execution_count": 4,
   "id": "6c7cbb8a",
   "metadata": {},
   "outputs": [
    {
     "data": {
      "text/html": [
       "<div>\n",
       "<style scoped>\n",
       "    .dataframe tbody tr th:only-of-type {\n",
       "        vertical-align: middle;\n",
       "    }\n",
       "\n",
       "    .dataframe tbody tr th {\n",
       "        vertical-align: top;\n",
       "    }\n",
       "\n",
       "    .dataframe thead th {\n",
       "        text-align: right;\n",
       "    }\n",
       "</style>\n",
       "<table border=\"1\" class=\"dataframe\">\n",
       "  <thead>\n",
       "    <tr style=\"text-align: right;\">\n",
       "      <th></th>\n",
       "      <th>Employee_ID</th>\n",
       "      <th>Name</th>\n",
       "      <th>Age</th>\n",
       "      <th>Gender</th>\n",
       "      <th>Department</th>\n",
       "      <th>Job_Title</th>\n",
       "      <th>Experience_Years</th>\n",
       "      <th>Education_Level</th>\n",
       "      <th>Location</th>\n",
       "      <th>Salary</th>\n",
       "    </tr>\n",
       "  </thead>\n",
       "  <tbody>\n",
       "    <tr>\n",
       "      <th>0</th>\n",
       "      <td>1</td>\n",
       "      <td>Merle Ingram</td>\n",
       "      <td>24</td>\n",
       "      <td>Female</td>\n",
       "      <td>Engineering</td>\n",
       "      <td>Engineer</td>\n",
       "      <td>1</td>\n",
       "      <td>Master</td>\n",
       "      <td>Austin</td>\n",
       "      <td>90000</td>\n",
       "    </tr>\n",
       "    <tr>\n",
       "      <th>1</th>\n",
       "      <td>2</td>\n",
       "      <td>John Mayes</td>\n",
       "      <td>56</td>\n",
       "      <td>Male</td>\n",
       "      <td>Sales</td>\n",
       "      <td>Executive</td>\n",
       "      <td>33</td>\n",
       "      <td>Master</td>\n",
       "      <td>Seattle</td>\n",
       "      <td>195000</td>\n",
       "    </tr>\n",
       "    <tr>\n",
       "      <th>2</th>\n",
       "      <td>3</td>\n",
       "      <td>Carlos Wille</td>\n",
       "      <td>21</td>\n",
       "      <td>Male</td>\n",
       "      <td>Engineering</td>\n",
       "      <td>Intern</td>\n",
       "      <td>1</td>\n",
       "      <td>Bachelor</td>\n",
       "      <td>New York</td>\n",
       "      <td>35000</td>\n",
       "    </tr>\n",
       "    <tr>\n",
       "      <th>3</th>\n",
       "      <td>4</td>\n",
       "      <td>Michael Bryant</td>\n",
       "      <td>30</td>\n",
       "      <td>Male</td>\n",
       "      <td>Finance</td>\n",
       "      <td>Analyst</td>\n",
       "      <td>9</td>\n",
       "      <td>Bachelor</td>\n",
       "      <td>New York</td>\n",
       "      <td>75000</td>\n",
       "    </tr>\n",
       "    <tr>\n",
       "      <th>4</th>\n",
       "      <td>5</td>\n",
       "      <td>Paula Douglas</td>\n",
       "      <td>25</td>\n",
       "      <td>Female</td>\n",
       "      <td>HR</td>\n",
       "      <td>Analyst</td>\n",
       "      <td>2</td>\n",
       "      <td>Master</td>\n",
       "      <td>Seattle</td>\n",
       "      <td>70000</td>\n",
       "    </tr>\n",
       "  </tbody>\n",
       "</table>\n",
       "</div>"
      ],
      "text/plain": [
       "   Employee_ID            Name  Age  Gender   Department  Job_Title  \\\n",
       "0            1    Merle Ingram   24  Female  Engineering   Engineer   \n",
       "1            2      John Mayes   56    Male        Sales  Executive   \n",
       "2            3    Carlos Wille   21    Male  Engineering     Intern   \n",
       "3            4  Michael Bryant   30    Male      Finance    Analyst   \n",
       "4            5   Paula Douglas   25  Female           HR    Analyst   \n",
       "\n",
       "   Experience_Years Education_Level  Location  Salary  \n",
       "0                 1          Master    Austin   90000  \n",
       "1                33          Master   Seattle  195000  \n",
       "2                 1        Bachelor  New York   35000  \n",
       "3                 9        Bachelor  New York   75000  \n",
       "4                 2          Master   Seattle   70000  "
      ]
     },
     "execution_count": 4,
     "metadata": {},
     "output_type": "execute_result"
    }
   ],
   "source": [
    "import pandas as pd\n",
    "\n",
    "data = pd.read_csv(\"artifacts/data_ingestion/Employers_data.csv\")\n",
    "data.head()"
   ]
  },
  {
   "cell_type": "code",
   "execution_count": 5,
   "id": "b267c0e8",
   "metadata": {},
   "outputs": [
    {
     "name": "stdout",
     "output_type": "stream",
     "text": [
      "<class 'pandas.core.frame.DataFrame'>\n",
      "RangeIndex: 10000 entries, 0 to 9999\n",
      "Data columns (total 10 columns):\n",
      " #   Column            Non-Null Count  Dtype \n",
      "---  ------            --------------  ----- \n",
      " 0   Employee_ID       10000 non-null  int64 \n",
      " 1   Name              10000 non-null  object\n",
      " 2   Age               10000 non-null  int64 \n",
      " 3   Gender            10000 non-null  object\n",
      " 4   Department        10000 non-null  object\n",
      " 5   Job_Title         10000 non-null  object\n",
      " 6   Experience_Years  10000 non-null  int64 \n",
      " 7   Education_Level   10000 non-null  object\n",
      " 8   Location          10000 non-null  object\n",
      " 9   Salary            10000 non-null  int64 \n",
      "dtypes: int64(4), object(6)\n",
      "memory usage: 781.4+ KB\n"
     ]
    }
   ],
   "source": [
    "data.info()"
   ]
  },
  {
   "cell_type": "code",
   "execution_count": 6,
   "id": "9d3ee3ee",
   "metadata": {},
   "outputs": [
    {
     "data": {
      "text/plain": [
       "Employee_ID         0\n",
       "Name                0\n",
       "Age                 0\n",
       "Gender              0\n",
       "Department          0\n",
       "Job_Title           0\n",
       "Experience_Years    0\n",
       "Education_Level     0\n",
       "Location            0\n",
       "Salary              0\n",
       "dtype: int64"
      ]
     },
     "execution_count": 6,
     "metadata": {},
     "output_type": "execute_result"
    }
   ],
   "source": [
    "# check null\n",
    "data.isnull().sum()"
   ]
  },
  {
   "cell_type": "code",
   "execution_count": 7,
   "id": "ed895e03",
   "metadata": {},
   "outputs": [
    {
     "data": {
      "text/plain": [
       "(10000, 10)"
      ]
     },
     "execution_count": 7,
     "metadata": {},
     "output_type": "execute_result"
    }
   ],
   "source": [
    "data.shape"
   ]
  },
  {
   "cell_type": "code",
   "execution_count": 8,
   "id": "43e429c7",
   "metadata": {},
   "outputs": [],
   "source": [
    "from dataclasses import dataclass\n",
    "from pathlib import Path\n",
    "\n",
    "@dataclass\n",
    "class DataValidationConfig:\n",
    "\n",
    "    \"\"\"\n",
    "    Configuration class for data validation operations.\n",
    "    \n",
    "    Attributes:\n",
    "        root_dir: Directory where validation artifacts will be stored\n",
    "        status_file: Name of the status file to track validation results\n",
    "        unzip_data_dir: Directory containing the unzipped data to validate\n",
    "        all_schema: Dictionary containing the expected data schema\n",
    "    \"\"\"\n",
    "    root_dir: Path\n",
    "    STATUS_FILE: str\n",
    "    unzip_data_dir: Path\n",
    "    all_schema: dict"
   ]
  },
  {
   "cell_type": "code",
   "execution_count": 9,
   "id": "c1850ef4",
   "metadata": {},
   "outputs": [
    {
     "name": "stdout",
     "output_type": "stream",
     "text": [
      "[2025-08-02 15:13:23,905: INFO: __init__: Logger initialized for the datascience package.]\n"
     ]
    }
   ],
   "source": [
    "from src.datascience.constants import * \n",
    "from src.datascience.utils.common import read_yaml, create_directories\n",
    "from src.datascience import logger\n",
    "from src.datascience.config.configuration import DataIngestionConfig\n",
    "\n",
    "class ConfigurationManager:\n",
    "    \"\"\"\n",
    "    Configuration manager for handling YAML configuration files.\n",
    "    \n",
    "    This class loads configuration, parameters, and schema files and provides\n",
    "    methods to retrieve specific configuration objects.\n",
    "    \"\"\"\n",
    "    def __init__(self, config_filepath=CONFIG_FILE_PATH, params_filepath= PARAMS_FILE_PATH, schema_filepath = SCHEMA_FILE_PATH ):\n",
    "\n",
    "        \"\"\"\n",
    "        Initialize the ConfigurationManager.\n",
    "        \n",
    "        Args:\n",
    "            config_filepath (Path): Path to the main configuration file\n",
    "            params_filepath (Path): Path to the parameters file\n",
    "            schema_filepath (Path): Path to the schema file\n",
    "        \"\"\"\n",
    "          \n",
    "        try:\n",
    "            self.config = read_yaml(config_filepath)\n",
    "            self.params = read_yaml(params_filepath)\n",
    "            self.schema = read_yaml(schema_filepath)\n",
    "            \n",
    "            # Create artifacts root directory\n",
    "            create_directories([self.config.artifacts_root])\n",
    "            logger.info(\"ConfigurationManager initialized successfully\")\n",
    "            \n",
    "        except Exception as e:\n",
    "            logger.error(f\"Error initializing ConfigurationManager: {e}\")\n",
    "            raise\n",
    "\n",
    "\n",
    "    def get_data_ingestion_config(self) -> DataIngestionConfig:\n",
    "        config = self.config.data_ingestion\n",
    "        create_directories([config.root_dir])\n",
    "\n",
    "        data_ingestion_config = DataIngestionConfig(\n",
    "            root_dir = config.root_dir,\n",
    "            source_URL = config.source_URL,\n",
    "            local_data_file = config.local_data_file,\n",
    "            unzip_dir = config.unzip_dir\n",
    "        )\n",
    "        return data_ingestion_config\n",
    "    \n",
    "    def get_data_validation_config(self) -> DataValidationConfig:\n",
    "        config = self.config.data_validation\n",
    "        schema = self.schema.COLUMNS\n",
    "\n",
    "        create_directories([config.root_dir])\n",
    "\n",
    "        data_validation_config = DataValidationConfig(\n",
    "            root_dir =  config.root_dir,\n",
    "            STATUS_FILE = config.STATUS_FILE,\n",
    "            unzip_data_dir = config.unzip_data_dir,\n",
    "            all_schema = schema\n",
    "        )\n",
    "        return data_validation_config"
   ]
  },
  {
   "cell_type": "code",
   "execution_count": 10,
   "id": "c8f33df8",
   "metadata": {},
   "outputs": [],
   "source": [
    "import os\n",
    "from src.datascience import logger\n",
    "\n",
    "class DataValidation:\n",
    "    \"\"\"\n",
    "    Data validation component for validating dataset schema and structure.\n",
    "    \"\"\"\n",
    "    \n",
    "    def __init__(self, config: DataValidationConfig):\n",
    "        \"\"\"\n",
    "        Initialize DataValidation with configuration.\n",
    "        \n",
    "        Args:\n",
    "            config (DataValidationConfig): Configuration object for data validation\n",
    "        \"\"\"\n",
    "        self.config = config\n",
    "        logger.info(\"DataValidation component initialized\")\n",
    "\n",
    "\n",
    "    def validate(self)-> bool:\n",
    "        \"\"\"\n",
    "        Validate that all columns in the dataset match the expected schema.\n",
    "        \n",
    "        Returns:\n",
    "            bool: True if validation passes, False otherwise\n",
    "            \n",
    "        Raises:\n",
    "            FileNotFoundError: If the data file doesn't exist\n",
    "            Exception: If there's an error during validation\n",
    "        \"\"\"\n",
    "\n",
    "        try:\n",
    "            validation_status = True\n",
    "            missing_columns = []\n",
    "            extra_columns = []\n",
    "\n",
    "            # Read the CSV file\n",
    "            logger.info(f\"Reading CSV file from: {self.config.unzip_data_dir}\")\n",
    "\n",
    "            data = pd.read_csv(self.config.unzip_data_dir)\n",
    "            actual_columns = list(data.columns)\n",
    "\n",
    "            expected_columns = self.config.all_schema.keys()\n",
    "\n",
    "            # Check for missing columns\n",
    "            missing_columns = [col for col in expected_columns if col not in actual_columns]\n",
    "            \n",
    "            # Check for extra columns (found but not expected)\n",
    "            extra_columns = [col for col in actual_columns if col not in expected_columns]\n",
    "\n",
    "            if missing_columns:\n",
    "                validation_status = False\n",
    "                logger.error(f\"Missing columns: {missing_columns}\")\n",
    "            \n",
    "            if extra_columns:\n",
    "                logger.warning(f\"Extra columns found: {extra_columns}\")\n",
    "                validation_status = False\n",
    "\n",
    "            status_message = f\"Validation status: {validation_status}\"\n",
    "\n",
    "            with open(self.config.STATUS_FILE, 'w') as f:\n",
    "                f.write(status_message)\n",
    "\n",
    "            logger.info(f\"Validation completed. Status: {validation_status}\")\n",
    "\n",
    "            return validation_status\n",
    "        except FileNotFoundError as e:\n",
    "            logger.error(f\"CSV file not found: {e}\")\n",
    "            self._write_error_status(f\"File not found: {e}\")\n",
    "            raise\n",
    "        except Exception as e:\n",
    "            logger.error(f\"Error during column validation: {e}\")\n",
    "            self._write_error_status(f\"Validation error: {e}\")\n",
    "            raise\n"
   ]
  },
  {
   "cell_type": "code",
   "execution_count": 11,
   "id": "0a0d6962",
   "metadata": {},
   "outputs": [
    {
     "name": "stdout",
     "output_type": "stream",
     "text": [
      "[2025-08-02 15:13:24,869: INFO: common: YAML file: config/config.yaml loaded successfully]\n",
      "[2025-08-02 15:13:24,949: INFO: common: YAML file: params.yaml loaded successfully]\n",
      "[2025-08-02 15:13:25,027: INFO: common: YAML file: schema.yaml loaded successfully]\n",
      "[2025-08-02 15:13:25,028: INFO: common: Created directory at artifacts]\n",
      "[2025-08-02 15:13:25,029: INFO: 4097994236: ConfigurationManager initialized successfully]\n",
      "[2025-08-02 15:13:25,030: INFO: common: Created directory at artifacts/data_validation]\n",
      "[2025-08-02 15:13:25,030: INFO: 1695794247: DataValidation component initialized]\n",
      "[2025-08-02 15:13:25,031: INFO: 1695794247: Reading CSV file from: artifacts/data_ingestion/Employers_data.csv]\n",
      "[2025-08-02 15:13:25,053: INFO: 1695794247: Validation completed. Status: True]\n"
     ]
    }
   ],
   "source": [
    "try:\n",
    "    config= ConfigurationManager()\n",
    "    data_validation_config = config.get_data_validation_config()\n",
    "    data_validation = DataValidation(config=data_validation_config)\n",
    "    data_validation.validate()\n",
    "except Exception as e:\n",
    "    raise e"
   ]
  }
 ],
 "metadata": {
  "kernelspec": {
   "display_name": "env",
   "language": "python",
   "name": "python3"
  },
  "language_info": {
   "codemirror_mode": {
    "name": "ipython",
    "version": 3
   },
   "file_extension": ".py",
   "mimetype": "text/x-python",
   "name": "python",
   "nbconvert_exporter": "python",
   "pygments_lexer": "ipython3",
   "version": "3.11.13"
  }
 },
 "nbformat": 4,
 "nbformat_minor": 5
}
